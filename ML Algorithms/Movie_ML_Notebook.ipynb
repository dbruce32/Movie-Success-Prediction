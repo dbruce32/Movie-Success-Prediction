{
  "cells": [
    {
      "cell_type": "markdown",
      "metadata": {},
      "source": [
        "If torch is not recognized by pylance, then open a terminal, navigate to C:\\Users\\[username], and run the following command:\n",
        "\n",
        "$\\boxed{\\text{pip install torch}}$"
      ]
    },
    {
      "cell_type": "code",
      "execution_count": 6,
      "metadata": {},
      "outputs": [
        {
          "name": "stdout",
          "output_type": "stream",
          "text": [
            "^C\n",
            "Note: you may need to restart the kernel to use updated packages.\n",
            "Requirement already satisfied: pandas in c:\\users\\gemc\\anaconda3\\lib\\site-packages (2.2.2)\n",
            "Requirement already satisfied: numpy>=1.26.0 in c:\\users\\gemc\\anaconda3\\lib\\site-packages (from pandas) (1.26.4)\n",
            "Requirement already satisfied: python-dateutil>=2.8.2 in c:\\users\\gemc\\anaconda3\\lib\\site-packages (from pandas) (2.9.0.post0)\n",
            "Requirement already satisfied: pytz>=2020.1 in c:\\users\\gemc\\anaconda3\\lib\\site-packages (from pandas) (2024.1)\n",
            "Requirement already satisfied: tzdata>=2022.7 in c:\\users\\gemc\\anaconda3\\lib\\site-packages (from pandas) (2023.3)\n",
            "Requirement already satisfied: six>=1.5 in c:\\users\\gemc\\anaconda3\\lib\\site-packages (from python-dateutil>=2.8.2->pandas) (1.16.0)\n",
            "Note: you may need to restart the kernel to use updated packages.\n"
          ]
        }
      ],
      "source": [
        "%pip install torch\n",
        "%pip install pandas"
      ]
    },
    {
      "cell_type": "markdown",
      "metadata": {},
      "source": [
        "Build dataset"
      ]
    },
    {
      "cell_type": "code",
      "execution_count": 5,
      "metadata": {
        "colab": {
          "base_uri": "https://localhost:8080/"
        },
        "id": "P8B-M-5xBwoM",
        "outputId": "bef67562-4b09-435a-c5c5-3c3583f818fd"
      },
      "outputs": [
        {
          "name": "stderr",
          "output_type": "stream",
          "text": [
            "C:\\Users\\gemc\\AppData\\Local\\Temp\\ipykernel_18820\\2895176656.py:4: DtypeWarning: Columns (10) have mixed types. Specify dtype option on import or set low_memory=False.\n",
            "  df = pd.read_csv('movies_metadata.csv')\n"
          ]
        }
      ],
      "source": [
        "import pandas as pd\n",
        "\n",
        "# load kaggle dataset\n",
        "df = pd.read_csv('movies_metadata.csv')"
      ]
    },
    {
      "cell_type": "code",
      "execution_count": 6,
      "metadata": {
        "colab": {
          "base_uri": "https://localhost:8080/"
        },
        "collapsed": true,
        "id": "lqTanORfpMjc",
        "outputId": "4aec83ad-78cc-40db-d66e-6e46eedacb53"
      },
      "outputs": [
        {
          "name": "stdout",
          "output_type": "stream",
          "text": [
            "adult                     object\n",
            "belongs_to_collection     object\n",
            "budget                    object\n",
            "genres                    object\n",
            "homepage                  object\n",
            "id                        object\n",
            "imdb_id                   object\n",
            "original_language         object\n",
            "original_title            object\n",
            "overview                  object\n",
            "popularity                object\n",
            "poster_path               object\n",
            "production_companies      object\n",
            "production_countries      object\n",
            "release_date              object\n",
            "revenue                  float64\n",
            "runtime                  float64\n",
            "spoken_languages          object\n",
            "status                    object\n",
            "tagline                   object\n",
            "title                     object\n",
            "video                     object\n",
            "vote_average             float64\n",
            "vote_count               float64\n",
            "dtype: object\n"
          ]
        }
      ],
      "source": [
        "# Perform data cleaning as needed, ex removing NaNs\n",
        "\n",
        "df.columns\n",
        "print(df.dtypes)\n",
        "\n",
        "# Start with the float-typed columns for simplicity sake\n",
        "df = df[['budget', 'revenue',  'vote_average', 'popularity', 'genres', 'production_companies']]\n",
        "\n",
        "# ensure budget is a float\n",
        "df = df[df['budget'].astype(str).str.isnumeric()]\n",
        "df['budget'] = df['budget'].astype(float)\n",
        "\n",
        "# ensure popularity is a float\n",
        "df['popularity'] = df['popularity'].astype(float)\n",
        "\n",
        "# replace 0 popularity with mean popularity - future: use K-means to estimate popularity\n",
        "df['popularity']=df.mask(df['popularity']==0, df[df['popularity'] > 0]['popularity'].mean())['popularity']\n",
        "\n",
        "# keep only datapoints where budget and revenue are recorded\n",
        "df = df[(df['budget'] > 0) & (df['revenue'] > 0)]\n",
        "\n",
        "from sklearn.preprocessing import MultiLabelBinarizer\n",
        "import json\n",
        "import ast\n",
        "\n",
        "# get genre column of df\n",
        "genres_data = df['genres']\n",
        "# Extract genre names\n",
        "genre_names = [[genre[\"name\"] for genre in json.loads(str(genre_list).replace(\"'\", \"\\\"\")) if \"name\" in genre_list] for genre_list in genres_data]\n",
        "# one-hot encode genre names\n",
        "mlb_genre = MultiLabelBinarizer()\n",
        "one_hot_encoded_genres = mlb_genre.fit_transform(genre_names)\n",
        "# replace genres in dataset with one-hot encoded\n",
        "df= df.drop('genres',axis=1).join(pd.DataFrame(one_hot_encoded_genres)).fillna(0)\n",
        "\n",
        "# print(\"Genre names for each position in one-hot vector:\")\n",
        "# print(mlb_genre.classes_)\n",
        "\n",
        "# Get prod company column\n",
        "prod_companies_data = df['production_companies']\n",
        "# Extract prod co names\n",
        "prod_co_names = [[ast.literal_eval(str(prod_co))[\"id\"] for prod_co in ast.literal_eval(prod_co_list)] for prod_co_list in prod_companies_data]\n",
        "# one-hot encode prod co names\n",
        "mlb_prod_co= MultiLabelBinarizer()\n",
        "one_hot_encoded_prod_co = mlb_prod_co.fit_transform(prod_co_names)\n",
        "one_hot_encoded_prod_co_df = pd.DataFrame(one_hot_encoded_prod_co)\n",
        "one_hot_encoded_prod_co_df.columns = range(len(df.columns), len(df.columns) + len(one_hot_encoded_prod_co_df.columns))\n",
        "# replace prod co in dataset with one-hot encoded\n",
        "df= df.drop('production_companies',axis=1).join(one_hot_encoded_prod_co_df).fillna(0)\n"
      ]
    },
    {
      "cell_type": "code",
      "execution_count": 7,
      "metadata": {
        "colab": {
          "base_uri": "https://localhost:8080/"
        },
        "id": "TGFaA7M_WrPz",
        "outputId": "168b459b-5121-4794-c8bc-c7d4bedfc6c8"
      },
      "outputs": [
        {
          "name": "stdout",
          "output_type": "stream",
          "text": [
            "           budget      revenue  vote_average  popularity    0    1    2    3  \\\n",
            "0      30000000.0  373554033.0           7.7   21.946943  0.0  0.0  1.0  1.0   \n",
            "1      65000000.0  262797249.0           6.9   17.015539  0.0  1.0  0.0  0.0   \n",
            "3      16000000.0   81452156.0           6.1    3.859495  1.0  0.0  0.0  0.0   \n",
            "5      60000000.0  187436818.0           7.7   17.924927  1.0  1.0  0.0  0.0   \n",
            "8      35000000.0   64350171.0           5.5    5.231580  1.0  1.0  0.0  0.0   \n",
            "...           ...          ...           ...         ...  ...  ...  ...  ...   \n",
            "45250  12000000.0   19000000.0           6.9    1.323587  0.0  0.0  0.0  0.0   \n",
            "45399    750000.0          3.0           6.0    0.201582  0.0  0.0  0.0  0.0   \n",
            "45409    800000.0    1328612.0           5.8    0.903061  0.0  0.0  0.0  0.0   \n",
            "45412   2000000.0    1268793.0           4.0    0.121844  0.0  0.0  0.0  0.0   \n",
            "45422   5000000.0    1413000.0           1.0    0.039793  0.0  0.0  0.0  0.0   \n",
            "\n",
            "         4    5  ...  5492  5493  5494  5495  5496  5497  5498  5499  5500  \\\n",
            "0      0.0  0.0  ...   0.0   0.0   0.0   0.0   0.0   0.0   0.0   0.0   0.0   \n",
            "1      0.0  0.0  ...   0.0   0.0   0.0   0.0   0.0   0.0   0.0   0.0   0.0   \n",
            "3      1.0  0.0  ...   0.0   0.0   0.0   0.0   0.0   0.0   0.0   0.0   0.0   \n",
            "5      0.0  0.0  ...   0.0   0.0   0.0   0.0   0.0   0.0   0.0   0.0   0.0   \n",
            "8      0.0  0.0  ...   0.0   0.0   0.0   0.0   0.0   0.0   0.0   0.0   0.0   \n",
            "...    ...  ...  ...   ...   ...   ...   ...   ...   ...   ...   ...   ...   \n",
            "45250  0.0  0.0  ...   0.0   0.0   0.0   0.0   0.0   0.0   0.0   0.0   0.0   \n",
            "45399  0.0  0.0  ...   0.0   0.0   0.0   0.0   0.0   0.0   0.0   0.0   0.0   \n",
            "45409  0.0  0.0  ...   0.0   0.0   0.0   0.0   0.0   0.0   0.0   0.0   0.0   \n",
            "45412  0.0  0.0  ...   0.0   0.0   0.0   0.0   0.0   0.0   0.0   0.0   0.0   \n",
            "45422  0.0  0.0  ...   0.0   0.0   0.0   0.0   0.0   0.0   0.0   0.0   0.0   \n",
            "\n",
            "       5501  \n",
            "0       0.0  \n",
            "1       0.0  \n",
            "3       0.0  \n",
            "5       0.0  \n",
            "8       0.0  \n",
            "...     ...  \n",
            "45250   0.0  \n",
            "45399   0.0  \n",
            "45409   0.0  \n",
            "45412   0.0  \n",
            "45422   0.0  \n",
            "\n",
            "[5381 rows x 5501 columns]\n"
          ]
        }
      ],
      "source": [
        "print(df)"
      ]
    },
    {
      "cell_type": "code",
      "execution_count": 8,
      "metadata": {
        "id": "xBdYvvJAWfDn"
      },
      "outputs": [],
      "source": [
        "# Split into train, val, test\n",
        "def split_dataset(df, props=[.8, .1, .1]):\n",
        "    assert round(sum(props), 2) == 1 and len(props) >= 2\n",
        "\n",
        "    train_df = df.iloc[0:int(props[0]*df.shape[0])]\n",
        "    val_df= df.iloc[int(props[0]*df.shape[0]):int((props[0] + props[1])*df.shape[0])]\n",
        "    test_df = df.iloc[int((props[0] + props[1])*df.shape[0]):df.shape[0]]\n",
        "\n",
        "    return train_df, val_df, test_df"
      ]
    },
    {
      "cell_type": "code",
      "execution_count": 9,
      "metadata": {
        "id": "tq1PMtb1qHDS"
      },
      "outputs": [],
      "source": [
        "\n",
        "# Set up dataset iterators, perform feature engineering\n",
        "\n",
        "import numpy as np\n",
        "import torch\n",
        "from torch.utils.data import Dataset\n",
        "from scipy import signal\n",
        "from tqdm import tqdm\n",
        "from torch.utils.data import RandomSampler\n",
        "\n",
        "\n",
        "\n",
        "class MovieDataset(Dataset):\n",
        "    def __init__(self, df):\n",
        "        self.df = df\n",
        "\n",
        "    def __len__(self):\n",
        "        return self.df.shape[0]\n",
        "\n",
        "    def __getitem__(self, index: int):\n",
        "        features = self.df.iloc[index]\n",
        "        processed_features = features.drop('revenue')\n",
        "\n",
        "\n",
        "        # Return the processed features and the room size\n",
        "        revenue = self.df.iloc[index]['revenue']\n",
        "        return torch.tensor(np.array(processed_features, np.float32)), revenue\n",
        "\n",
        "\n",
        "train_df, val_df, test_df = split_dataset(df)\n",
        "\n",
        "train_dataset = MovieDataset(train_df)\n",
        "val_dataset = MovieDataset(val_df)\n",
        "test_dataset = MovieDataset(test_df)\n",
        "\n",
        "\n",
        "train_sampler = RandomSampler(train_dataset)\n",
        "val_sampler   = RandomSampler(val_dataset)\n",
        "test_sampler  = RandomSampler(test_dataset)\n",
        "\n",
        "from torch.utils.data import DataLoader\n",
        "BATCH_SIZE = 1\n",
        "\n",
        "train_iterator = DataLoader(train_dataset, batch_size=BATCH_SIZE, sampler=train_sampler) #collate_fn = ...\n",
        "val_iterator   = DataLoader(val_dataset, batch_size=BATCH_SIZE, sampler=val_sampler)\n",
        "test_iterator  = DataLoader(test_dataset, batch_size=BATCH_SIZE, sampler=test_sampler)"
      ]
    },
    {
      "cell_type": "code",
      "execution_count": 10,
      "metadata": {
        "colab": {
          "base_uri": "https://localhost:8080/"
        },
        "id": "87Gsryb9YKtE",
        "outputId": "d003678d-e499-458f-90a7-e7771e5927e8"
      },
      "outputs": [
        {
          "name": "stdout",
          "output_type": "stream",
          "text": [
            "3.12.7 | packaged by Anaconda, Inc. | (main, Oct  4 2024, 13:17:27) [MSC v.1929 64 bit (AMD64)]\n"
          ]
        }
      ],
      "source": [
        "import torch\n",
        "import random, sys\n",
        "\n",
        "RANDOM_SEED = 30\n",
        "torch.manual_seed(RANDOM_SEED)\n",
        "random.seed(RANDOM_SEED)\n",
        "device = torch.device('cuda' if torch.cuda.is_available() else 'cpu')\n",
        "print(sys.version)"
      ]
    },
    {
      "cell_type": "code",
      "execution_count": 11,
      "metadata": {
        "id": "kvMKP2aOZKyR"
      },
      "outputs": [],
      "source": [
        "import torch.nn as nn\n",
        "\n",
        "class MovieNN(nn.Module):\n",
        "  def __init__(self):\n",
        "    super().__init__()\n",
        "    self.lin1 = nn.Linear(5500, 5500)\n",
        "    self.lin2 = nn.Linear(5500, 5500)\n",
        "    self.lin3 = nn.Linear(5500,1)\n",
        "\n",
        "  def forward(self, x):\n",
        "    x=x.to(device) # put it on correct processor\n",
        "    lin1 = self.lin1(x)\n",
        "    lin2 = self.lin2(lin1)\n",
        "    lin3 = self.lin3(lin2)\n",
        "    return torch.flatten(lin3)\n",
        "\n"
      ]
    },
    {
      "cell_type": "code",
      "execution_count": 12,
      "metadata": {
        "id": "ukOy0doeZPoM"
      },
      "outputs": [],
      "source": [
        "model = MovieNN().to(device)"
      ]
    },
    {
      "cell_type": "code",
      "execution_count": 13,
      "metadata": {
        "id": "9tpxKJvmZQE-"
      },
      "outputs": [],
      "source": [
        "from torch.optim import AdamW\n",
        "criterion, optimizer = None, None\n",
        "criterion = nn.MSELoss()\n",
        "lrate = .00001\n",
        "optimizer = AdamW(model.parameters(), lr=lrate)"
      ]
    },
    {
      "cell_type": "code",
      "execution_count": 14,
      "metadata": {
        "id": "oi5Ba2lBZlMH"
      },
      "outputs": [],
      "source": [
        "def train_loop(model, criterion, optim, iterator):\n",
        "  \"\"\"\n",
        "  Returns the total loss calculated from criterion\n",
        "  \"\"\"\n",
        "  model.train()\n",
        "  total_loss = 0\n",
        "  for x, y in tqdm(iterator):\n",
        "    y = torch.tensor(np.array(y, np.float32)).to(device)\n",
        "    optim.zero_grad()\n",
        "\n",
        "    yhat = model(x)\n",
        "    loss = criterion(yhat, y)\n",
        "    total_loss += loss.item()\n",
        "    loss.backward()\n",
        "    optim.step()\n",
        "\n",
        "  return total_loss\n",
        "\n",
        "\n",
        "def val_loop(model, iterator):\n",
        "  \"\"\"\n",
        "  Returns:\n",
        "    true (List[bool]): All the ground truth values taken from the dataset iterator\n",
        "    pred (List[bool]): All model predictions.\n",
        "  \"\"\"\n",
        "  true, pred = [], []\n",
        "  for example in iterator:\n",
        "    # print(example[1])\n",
        "    # print(example[1], model(example[0]))\n",
        "    true.extend(example[1])\n",
        "    #print(example[0])\n",
        "    pred.extend(model(example[0]))\n",
        "  pred = torch.tensor(pred)\n",
        "  pred.to(device)\n",
        "  return true, pred"
      ]
    },
    {
      "cell_type": "code",
      "execution_count": 15,
      "metadata": {
        "id": "ipJAQF9dZt5g"
      },
      "outputs": [],
      "source": [
        "def accuracy(true, pred):\n",
        "  count = len(true)\n",
        "  good = len([i for i in range(len(true)) if abs(true[i] - pred[i]) < .15*true[i]])\n",
        "  return good/count"
      ]
    },
    {
      "cell_type": "code",
      "execution_count": 16,
      "metadata": {
        "colab": {
          "base_uri": "https://localhost:8080/"
        },
        "collapsed": true,
        "id": "CdP7FHMdZyyF",
        "outputId": "db79d1aa-3f56-470a-b140-3d4db0b88def"
      },
      "outputs": [
        {
          "name": "stderr",
          "output_type": "stream",
          "text": [
            "100%|██████████| 4304/4304 [33:21<00:00,  2.15it/s]\n"
          ]
        },
        {
          "name": "stdout",
          "output_type": "stream",
          "text": [
            "EPOCH: 0\n",
            "TRAIN LOSS: 5.716608883761341e+19\n",
            "VAL ACC: 0.1171003717472119\n"
          ]
        },
        {
          "name": "stderr",
          "output_type": "stream",
          "text": [
            "  5%|▍         | 203/4304 [01:08<22:54,  2.98it/s]\n"
          ]
        },
        {
          "ename": "KeyboardInterrupt",
          "evalue": "",
          "output_type": "error",
          "traceback": [
            "\u001b[1;31m---------------------------------------------------------------------------\u001b[0m",
            "\u001b[1;31mKeyboardInterrupt\u001b[0m                         Traceback (most recent call last)",
            "Cell \u001b[1;32mIn[16], line 4\u001b[0m\n\u001b[0;32m      1\u001b[0m TOTAL_EPOCHS \u001b[38;5;241m=\u001b[39m \u001b[38;5;241m20\u001b[39m\n\u001b[0;32m      3\u001b[0m \u001b[38;5;28;01mfor\u001b[39;00m epoch \u001b[38;5;129;01min\u001b[39;00m \u001b[38;5;28mrange\u001b[39m(TOTAL_EPOCHS):\n\u001b[1;32m----> 4\u001b[0m     train_loss \u001b[38;5;241m=\u001b[39m train_loop(model, criterion, optimizer, train_iterator)\n\u001b[0;32m      5\u001b[0m     true, pred \u001b[38;5;241m=\u001b[39m val_loop(model, val_iterator)\n\u001b[0;32m      6\u001b[0m     \u001b[38;5;28mprint\u001b[39m(\u001b[38;5;124mf\u001b[39m\u001b[38;5;124m\"\u001b[39m\u001b[38;5;124mEPOCH: \u001b[39m\u001b[38;5;132;01m{\u001b[39;00mepoch\u001b[38;5;132;01m}\u001b[39;00m\u001b[38;5;124m\"\u001b[39m)\n",
            "Cell \u001b[1;32mIn[14], line 7\u001b[0m, in \u001b[0;36mtrain_loop\u001b[1;34m(model, criterion, optim, iterator)\u001b[0m\n\u001b[0;32m      5\u001b[0m model\u001b[38;5;241m.\u001b[39mtrain()\n\u001b[0;32m      6\u001b[0m total_loss \u001b[38;5;241m=\u001b[39m \u001b[38;5;241m0\u001b[39m\n\u001b[1;32m----> 7\u001b[0m \u001b[38;5;28;01mfor\u001b[39;00m x, y \u001b[38;5;129;01min\u001b[39;00m tqdm(iterator):\n\u001b[0;32m      8\u001b[0m   y \u001b[38;5;241m=\u001b[39m torch\u001b[38;5;241m.\u001b[39mtensor(np\u001b[38;5;241m.\u001b[39marray(y, np\u001b[38;5;241m.\u001b[39mfloat32))\u001b[38;5;241m.\u001b[39mto(device)\n\u001b[0;32m      9\u001b[0m   optim\u001b[38;5;241m.\u001b[39mzero_grad()\n",
            "File \u001b[1;32mc:\\Users\\gemc\\anaconda3\\Lib\\site-packages\\tqdm\\std.py:1181\u001b[0m, in \u001b[0;36mtqdm.__iter__\u001b[1;34m(self)\u001b[0m\n\u001b[0;32m   1178\u001b[0m time \u001b[38;5;241m=\u001b[39m \u001b[38;5;28mself\u001b[39m\u001b[38;5;241m.\u001b[39m_time\n\u001b[0;32m   1180\u001b[0m \u001b[38;5;28;01mtry\u001b[39;00m:\n\u001b[1;32m-> 1181\u001b[0m     \u001b[38;5;28;01mfor\u001b[39;00m obj \u001b[38;5;129;01min\u001b[39;00m iterable:\n\u001b[0;32m   1182\u001b[0m         \u001b[38;5;28;01myield\u001b[39;00m obj\n\u001b[0;32m   1183\u001b[0m         \u001b[38;5;66;03m# Update and possibly print the progressbar.\u001b[39;00m\n\u001b[0;32m   1184\u001b[0m         \u001b[38;5;66;03m# Note: does not call self.update(1) for speed optimisation.\u001b[39;00m\n",
            "File \u001b[1;32mc:\\Users\\gemc\\anaconda3\\Lib\\site-packages\\torch\\utils\\data\\dataloader.py:708\u001b[0m, in \u001b[0;36m_BaseDataLoaderIter.__next__\u001b[1;34m(self)\u001b[0m\n\u001b[0;32m    705\u001b[0m \u001b[38;5;28;01mif\u001b[39;00m \u001b[38;5;28mself\u001b[39m\u001b[38;5;241m.\u001b[39m_sampler_iter \u001b[38;5;129;01mis\u001b[39;00m \u001b[38;5;28;01mNone\u001b[39;00m:\n\u001b[0;32m    706\u001b[0m     \u001b[38;5;66;03m# TODO(https://github.com/pytorch/pytorch/issues/76750)\u001b[39;00m\n\u001b[0;32m    707\u001b[0m     \u001b[38;5;28mself\u001b[39m\u001b[38;5;241m.\u001b[39m_reset()  \u001b[38;5;66;03m# type: ignore[call-arg]\u001b[39;00m\n\u001b[1;32m--> 708\u001b[0m data \u001b[38;5;241m=\u001b[39m \u001b[38;5;28mself\u001b[39m\u001b[38;5;241m.\u001b[39m_next_data()\n\u001b[0;32m    709\u001b[0m \u001b[38;5;28mself\u001b[39m\u001b[38;5;241m.\u001b[39m_num_yielded \u001b[38;5;241m+\u001b[39m\u001b[38;5;241m=\u001b[39m \u001b[38;5;241m1\u001b[39m\n\u001b[0;32m    710\u001b[0m \u001b[38;5;28;01mif\u001b[39;00m (\n\u001b[0;32m    711\u001b[0m     \u001b[38;5;28mself\u001b[39m\u001b[38;5;241m.\u001b[39m_dataset_kind \u001b[38;5;241m==\u001b[39m _DatasetKind\u001b[38;5;241m.\u001b[39mIterable\n\u001b[0;32m    712\u001b[0m     \u001b[38;5;129;01mand\u001b[39;00m \u001b[38;5;28mself\u001b[39m\u001b[38;5;241m.\u001b[39m_IterableDataset_len_called \u001b[38;5;129;01mis\u001b[39;00m \u001b[38;5;129;01mnot\u001b[39;00m \u001b[38;5;28;01mNone\u001b[39;00m\n\u001b[0;32m    713\u001b[0m     \u001b[38;5;129;01mand\u001b[39;00m \u001b[38;5;28mself\u001b[39m\u001b[38;5;241m.\u001b[39m_num_yielded \u001b[38;5;241m>\u001b[39m \u001b[38;5;28mself\u001b[39m\u001b[38;5;241m.\u001b[39m_IterableDataset_len_called\n\u001b[0;32m    714\u001b[0m ):\n",
            "File \u001b[1;32mc:\\Users\\gemc\\anaconda3\\Lib\\site-packages\\torch\\utils\\data\\dataloader.py:764\u001b[0m, in \u001b[0;36m_SingleProcessDataLoaderIter._next_data\u001b[1;34m(self)\u001b[0m\n\u001b[0;32m    762\u001b[0m \u001b[38;5;28;01mdef\u001b[39;00m \u001b[38;5;21m_next_data\u001b[39m(\u001b[38;5;28mself\u001b[39m):\n\u001b[0;32m    763\u001b[0m     index \u001b[38;5;241m=\u001b[39m \u001b[38;5;28mself\u001b[39m\u001b[38;5;241m.\u001b[39m_next_index()  \u001b[38;5;66;03m# may raise StopIteration\u001b[39;00m\n\u001b[1;32m--> 764\u001b[0m     data \u001b[38;5;241m=\u001b[39m \u001b[38;5;28mself\u001b[39m\u001b[38;5;241m.\u001b[39m_dataset_fetcher\u001b[38;5;241m.\u001b[39mfetch(index)  \u001b[38;5;66;03m# may raise StopIteration\u001b[39;00m\n\u001b[0;32m    765\u001b[0m     \u001b[38;5;28;01mif\u001b[39;00m \u001b[38;5;28mself\u001b[39m\u001b[38;5;241m.\u001b[39m_pin_memory:\n\u001b[0;32m    766\u001b[0m         data \u001b[38;5;241m=\u001b[39m _utils\u001b[38;5;241m.\u001b[39mpin_memory\u001b[38;5;241m.\u001b[39mpin_memory(data, \u001b[38;5;28mself\u001b[39m\u001b[38;5;241m.\u001b[39m_pin_memory_device)\n",
            "File \u001b[1;32mc:\\Users\\gemc\\anaconda3\\Lib\\site-packages\\torch\\utils\\data\\_utils\\fetch.py:52\u001b[0m, in \u001b[0;36m_MapDatasetFetcher.fetch\u001b[1;34m(self, possibly_batched_index)\u001b[0m\n\u001b[0;32m     50\u001b[0m         data \u001b[38;5;241m=\u001b[39m \u001b[38;5;28mself\u001b[39m\u001b[38;5;241m.\u001b[39mdataset\u001b[38;5;241m.\u001b[39m__getitems__(possibly_batched_index)\n\u001b[0;32m     51\u001b[0m     \u001b[38;5;28;01melse\u001b[39;00m:\n\u001b[1;32m---> 52\u001b[0m         data \u001b[38;5;241m=\u001b[39m [\u001b[38;5;28mself\u001b[39m\u001b[38;5;241m.\u001b[39mdataset[idx] \u001b[38;5;28;01mfor\u001b[39;00m idx \u001b[38;5;129;01min\u001b[39;00m possibly_batched_index]\n\u001b[0;32m     53\u001b[0m \u001b[38;5;28;01melse\u001b[39;00m:\n\u001b[0;32m     54\u001b[0m     data \u001b[38;5;241m=\u001b[39m \u001b[38;5;28mself\u001b[39m\u001b[38;5;241m.\u001b[39mdataset[possibly_batched_index]\n",
            "Cell \u001b[1;32mIn[9], line 21\u001b[0m, in \u001b[0;36mMovieDataset.__getitem__\u001b[1;34m(self, index)\u001b[0m\n\u001b[0;32m     19\u001b[0m \u001b[38;5;28;01mdef\u001b[39;00m \u001b[38;5;21m__getitem__\u001b[39m(\u001b[38;5;28mself\u001b[39m, index: \u001b[38;5;28mint\u001b[39m):\n\u001b[0;32m     20\u001b[0m     features \u001b[38;5;241m=\u001b[39m \u001b[38;5;28mself\u001b[39m\u001b[38;5;241m.\u001b[39mdf\u001b[38;5;241m.\u001b[39miloc[index]\n\u001b[1;32m---> 21\u001b[0m     processed_features \u001b[38;5;241m=\u001b[39m features\u001b[38;5;241m.\u001b[39mdrop(\u001b[38;5;124m'\u001b[39m\u001b[38;5;124mrevenue\u001b[39m\u001b[38;5;124m'\u001b[39m)\n\u001b[0;32m     24\u001b[0m     \u001b[38;5;66;03m# Return the processed features and the room size\u001b[39;00m\n\u001b[0;32m     25\u001b[0m     revenue \u001b[38;5;241m=\u001b[39m \u001b[38;5;28mself\u001b[39m\u001b[38;5;241m.\u001b[39mdf\u001b[38;5;241m.\u001b[39miloc[index][\u001b[38;5;124m'\u001b[39m\u001b[38;5;124mrevenue\u001b[39m\u001b[38;5;124m'\u001b[39m]\n",
            "File \u001b[1;32mc:\\Users\\gemc\\anaconda3\\Lib\\site-packages\\pandas\\core\\series.py:5356\u001b[0m, in \u001b[0;36mSeries.drop\u001b[1;34m(self, labels, axis, index, columns, level, inplace, errors)\u001b[0m\n\u001b[0;32m   5259\u001b[0m \u001b[38;5;28;01mdef\u001b[39;00m \u001b[38;5;21mdrop\u001b[39m(\n\u001b[0;32m   5260\u001b[0m     \u001b[38;5;28mself\u001b[39m,\n\u001b[0;32m   5261\u001b[0m     labels: IndexLabel \u001b[38;5;241m|\u001b[39m \u001b[38;5;28;01mNone\u001b[39;00m \u001b[38;5;241m=\u001b[39m \u001b[38;5;28;01mNone\u001b[39;00m,\n\u001b[1;32m   (...)\u001b[0m\n\u001b[0;32m   5268\u001b[0m     errors: IgnoreRaise \u001b[38;5;241m=\u001b[39m \u001b[38;5;124m\"\u001b[39m\u001b[38;5;124mraise\u001b[39m\u001b[38;5;124m\"\u001b[39m,\n\u001b[0;32m   5269\u001b[0m ) \u001b[38;5;241m-\u001b[39m\u001b[38;5;241m>\u001b[39m Series \u001b[38;5;241m|\u001b[39m \u001b[38;5;28;01mNone\u001b[39;00m:\n\u001b[0;32m   5270\u001b[0m \u001b[38;5;250m    \u001b[39m\u001b[38;5;124;03m\"\"\"\u001b[39;00m\n\u001b[0;32m   5271\u001b[0m \u001b[38;5;124;03m    Return Series with specified index labels removed.\u001b[39;00m\n\u001b[0;32m   5272\u001b[0m \n\u001b[1;32m   (...)\u001b[0m\n\u001b[0;32m   5354\u001b[0m \u001b[38;5;124;03m    dtype: float64\u001b[39;00m\n\u001b[0;32m   5355\u001b[0m \u001b[38;5;124;03m    \"\"\"\u001b[39;00m\n\u001b[1;32m-> 5356\u001b[0m     \u001b[38;5;28;01mreturn\u001b[39;00m \u001b[38;5;28msuper\u001b[39m()\u001b[38;5;241m.\u001b[39mdrop(\n\u001b[0;32m   5357\u001b[0m         labels\u001b[38;5;241m=\u001b[39mlabels,\n\u001b[0;32m   5358\u001b[0m         axis\u001b[38;5;241m=\u001b[39maxis,\n\u001b[0;32m   5359\u001b[0m         index\u001b[38;5;241m=\u001b[39mindex,\n\u001b[0;32m   5360\u001b[0m         columns\u001b[38;5;241m=\u001b[39mcolumns,\n\u001b[0;32m   5361\u001b[0m         level\u001b[38;5;241m=\u001b[39mlevel,\n\u001b[0;32m   5362\u001b[0m         inplace\u001b[38;5;241m=\u001b[39minplace,\n\u001b[0;32m   5363\u001b[0m         errors\u001b[38;5;241m=\u001b[39merrors,\n\u001b[0;32m   5364\u001b[0m     )\n",
            "File \u001b[1;32mc:\\Users\\gemc\\anaconda3\\Lib\\site-packages\\pandas\\core\\generic.py:4788\u001b[0m, in \u001b[0;36mNDFrame.drop\u001b[1;34m(self, labels, axis, index, columns, level, inplace, errors)\u001b[0m\n\u001b[0;32m   4786\u001b[0m \u001b[38;5;28;01mfor\u001b[39;00m axis, labels \u001b[38;5;129;01min\u001b[39;00m axes\u001b[38;5;241m.\u001b[39mitems():\n\u001b[0;32m   4787\u001b[0m     \u001b[38;5;28;01mif\u001b[39;00m labels \u001b[38;5;129;01mis\u001b[39;00m \u001b[38;5;129;01mnot\u001b[39;00m \u001b[38;5;28;01mNone\u001b[39;00m:\n\u001b[1;32m-> 4788\u001b[0m         obj \u001b[38;5;241m=\u001b[39m obj\u001b[38;5;241m.\u001b[39m_drop_axis(labels, axis, level\u001b[38;5;241m=\u001b[39mlevel, errors\u001b[38;5;241m=\u001b[39merrors)\n\u001b[0;32m   4790\u001b[0m \u001b[38;5;28;01mif\u001b[39;00m inplace:\n\u001b[0;32m   4791\u001b[0m     \u001b[38;5;28mself\u001b[39m\u001b[38;5;241m.\u001b[39m_update_inplace(obj)\n",
            "File \u001b[1;32mc:\\Users\\gemc\\anaconda3\\Lib\\site-packages\\pandas\\core\\generic.py:4830\u001b[0m, in \u001b[0;36mNDFrame._drop_axis\u001b[1;34m(self, labels, axis, level, errors, only_slice)\u001b[0m\n\u001b[0;32m   4828\u001b[0m         new_axis \u001b[38;5;241m=\u001b[39m axis\u001b[38;5;241m.\u001b[39mdrop(labels, level\u001b[38;5;241m=\u001b[39mlevel, errors\u001b[38;5;241m=\u001b[39merrors)\n\u001b[0;32m   4829\u001b[0m     \u001b[38;5;28;01melse\u001b[39;00m:\n\u001b[1;32m-> 4830\u001b[0m         new_axis \u001b[38;5;241m=\u001b[39m axis\u001b[38;5;241m.\u001b[39mdrop(labels, errors\u001b[38;5;241m=\u001b[39merrors)\n\u001b[0;32m   4831\u001b[0m     indexer \u001b[38;5;241m=\u001b[39m axis\u001b[38;5;241m.\u001b[39mget_indexer(new_axis)\n\u001b[0;32m   4833\u001b[0m \u001b[38;5;66;03m# Case for non-unique axis\u001b[39;00m\n\u001b[0;32m   4834\u001b[0m \u001b[38;5;28;01melse\u001b[39;00m:\n",
            "File \u001b[1;32mc:\\Users\\gemc\\anaconda3\\Lib\\site-packages\\pandas\\core\\indexes\\base.py:7072\u001b[0m, in \u001b[0;36mIndex.drop\u001b[1;34m(self, labels, errors)\u001b[0m\n\u001b[0;32m   7070\u001b[0m         \u001b[38;5;28;01mraise\u001b[39;00m \u001b[38;5;167;01mKeyError\u001b[39;00m(\u001b[38;5;124mf\u001b[39m\u001b[38;5;124m\"\u001b[39m\u001b[38;5;132;01m{\u001b[39;00mlabels[mask]\u001b[38;5;241m.\u001b[39mtolist()\u001b[38;5;132;01m}\u001b[39;00m\u001b[38;5;124m not found in axis\u001b[39m\u001b[38;5;124m\"\u001b[39m)\n\u001b[0;32m   7071\u001b[0m     indexer \u001b[38;5;241m=\u001b[39m indexer[\u001b[38;5;241m~\u001b[39mmask]\n\u001b[1;32m-> 7072\u001b[0m \u001b[38;5;28;01mreturn\u001b[39;00m \u001b[38;5;28mself\u001b[39m\u001b[38;5;241m.\u001b[39mdelete(indexer)\n",
            "File \u001b[1;32mc:\\Users\\gemc\\anaconda3\\Lib\\site-packages\\pandas\\core\\indexes\\base.py:6949\u001b[0m, in \u001b[0;36mIndex.delete\u001b[1;34m(self, loc)\u001b[0m\n\u001b[0;32m   6946\u001b[0m res_values: ArrayLike\n\u001b[0;32m   6947\u001b[0m \u001b[38;5;28;01mif\u001b[39;00m \u001b[38;5;28misinstance\u001b[39m(values, np\u001b[38;5;241m.\u001b[39mndarray):\n\u001b[0;32m   6948\u001b[0m     \u001b[38;5;66;03m# TODO(__array_function__): special casing will be unnecessary\u001b[39;00m\n\u001b[1;32m-> 6949\u001b[0m     res_values \u001b[38;5;241m=\u001b[39m np\u001b[38;5;241m.\u001b[39mdelete(values, loc)\n\u001b[0;32m   6950\u001b[0m \u001b[38;5;28;01melse\u001b[39;00m:\n\u001b[0;32m   6951\u001b[0m     res_values \u001b[38;5;241m=\u001b[39m values\u001b[38;5;241m.\u001b[39mdelete(loc)\n",
            "File \u001b[1;32mc:\\Users\\gemc\\anaconda3\\Lib\\site-packages\\numpy\\lib\\function_base.py:5336\u001b[0m, in \u001b[0;36mdelete\u001b[1;34m(arr, obj, axis)\u001b[0m\n\u001b[0;32m   5334\u001b[0m     obj \u001b[38;5;241m+\u001b[39m\u001b[38;5;241m=\u001b[39m N\n\u001b[0;32m   5335\u001b[0m newshape[axis] \u001b[38;5;241m-\u001b[39m\u001b[38;5;241m=\u001b[39m \u001b[38;5;241m1\u001b[39m\n\u001b[1;32m-> 5336\u001b[0m new \u001b[38;5;241m=\u001b[39m empty(newshape, arr\u001b[38;5;241m.\u001b[39mdtype, arrorder)\n\u001b[0;32m   5337\u001b[0m slobj[axis] \u001b[38;5;241m=\u001b[39m \u001b[38;5;28mslice\u001b[39m(\u001b[38;5;28;01mNone\u001b[39;00m, obj)\n\u001b[0;32m   5338\u001b[0m new[\u001b[38;5;28mtuple\u001b[39m(slobj)] \u001b[38;5;241m=\u001b[39m arr[\u001b[38;5;28mtuple\u001b[39m(slobj)]\n",
            "\u001b[1;31mKeyboardInterrupt\u001b[0m: "
          ]
        }
      ],
      "source": [
        "TOTAL_EPOCHS = 20\n",
        "\n",
        "for epoch in range(TOTAL_EPOCHS):\n",
        "    train_loss = train_loop(model, criterion, optimizer, train_iterator)\n",
        "    true, pred = val_loop(model, val_iterator)\n",
        "    print(f\"EPOCH: {epoch}\")\n",
        "    print(f\"TRAIN LOSS: {train_loss}\")\n",
        "    print(f\"VAL ACC: {accuracy(true, pred)}\")"
      ]
    },
    {
      "cell_type": "code",
      "execution_count": null,
      "metadata": {
        "colab": {
          "base_uri": "https://localhost:8080/"
        },
        "id": "fX42rdWaBNoK",
        "outputId": "cfe7bb41-e480-42b7-b690-5a93a1e50341"
      },
      "outputs": [
        {
          "name": "stdout",
          "output_type": "stream",
          "text": [
            "<bound method Module.parameters of MovieNN(\n",
            "  (lin1): Linear(in_features=23, out_features=23, bias=True)\n",
            "  (lin2): Linear(in_features=23, out_features=1, bias=True)\n",
            ")>\n",
            "[(tensor(1200000., dtype=torch.float64), tensor(12072523.)), (tensor(12000000., dtype=torch.float64), tensor(30476406.)), (tensor(30283., dtype=torch.float64), tensor(27705838.)), (tensor(7847000., dtype=torch.float64), tensor(30476444.)), (tensor(48390., dtype=torch.float64), tensor(5541205.5000)), (tensor(29789000., dtype=torch.float64), tensor(47099896.)), (tensor(1.8399e+08, dtype=torch.float64), tensor(4.8762e+08)), (tensor(3621046., dtype=torch.float64), tensor(38788184.)), (tensor(71561644., dtype=torch.float64), tensor(1.3853e+08)), (tensor(27330000., dtype=torch.float64), tensor(96970336.)), (tensor(75143., dtype=torch.float64), tensor(13852956.)), (tensor(16178959., dtype=torch.float64), tensor(2.4935e+08)), (tensor(143101., dtype=torch.float64), tensor(11082365.)), (tensor(3000000., dtype=torch.float64), tensor(2770609.2500)), (tensor(5.0019e+08, dtype=torch.float64), tensor(2.8537e+08)), (tensor(12005838., dtype=torch.float64), tensor(5402684.5000)), (tensor(28883511., dtype=torch.float64), tensor(27705852.)), (tensor(1.3382e+08, dtype=torch.float64), tensor(1.8009e+08)), (tensor(18050000., dtype=torch.float64), tensor(15265935.)), (tensor(9630444., dtype=torch.float64), tensor(22164688.)), (tensor(9221., dtype=torch.float64), tensor(11082369.)), (tensor(170000., dtype=torch.float64), tensor(218918.8125)), (tensor(252000., dtype=torch.float64), tensor(1108273.6250)), (tensor(17752940., dtype=torch.float64), tensor(1.9394e+08)), (tensor(1.7460e+08, dtype=torch.float64), tensor(83117456.)), (tensor(6.0912e+08, dtype=torch.float64), tensor(4.0173e+08)), (tensor(5867686., dtype=torch.float64), tensor(44329320.)), (tensor(2.7291e+08, dtype=torch.float64), tensor(4.0173e+08)), (tensor(71625195., dtype=torch.float64), tensor(47099900.)), (tensor(4541800., dtype=torch.float64), tensor(5033416.5000)), (tensor(2.0682e+09, dtype=torch.float64), tensor(6.7879e+08)), (tensor(71154592., dtype=torch.float64), tensor(1.8009e+08)), (tensor(1851517., dtype=torch.float64), tensor(18285888.)), (tensor(17137302., dtype=torch.float64), tensor(83117424.)), (tensor(1.0133e+08, dtype=torch.float64), tensor(33247010.)), (tensor(4635300., dtype=torch.float64), tensor(5541244.5000)), (tensor(1.2321e+08, dtype=torch.float64), tensor(1.0528e+08)), (tensor(6212282., dtype=torch.float64), tensor(49870496.)), (tensor(41325328., dtype=torch.float64), tensor(49870512.)), (tensor(6.4457e+08, dtype=torch.float64), tensor(4.7100e+08)), (tensor(6676471., dtype=torch.float64), tensor(5541228.5000)), (tensor(6.7772e+08, dtype=torch.float64), tensor(4.5715e+08)), (tensor(17508518., dtype=torch.float64), tensor(96970312.)), (tensor(74679822., dtype=torch.float64), tensor(1.5238e+08)), (tensor(7.1064e+08, dtype=torch.float64), tensor(4.7100e+08)), (tensor(201607., dtype=torch.float64), tensor(11474291.)), (tensor(17472., dtype=torch.float64), tensor(27705838.)), (tensor(6399., dtype=torch.float64), tensor(69264520.)), (tensor(12000000., dtype=torch.float64), tensor(858926.1875)), (tensor(5000000., dtype=torch.float64), tensor(55411600.)), (tensor(2.2281e+08, dtype=torch.float64), tensor(1.3853e+08)), (tensor(54837234., dtype=torch.float64), tensor(36017616.)), (tensor(30523226., dtype=torch.float64), tensor(72035176.)), (tensor(9114264., dtype=torch.float64), tensor(13852988.)), (tensor(1.5498e+08, dtype=torch.float64), tensor(1.9394e+08)), (tensor(36433975., dtype=torch.float64), tensor(19394116.)), (tensor(14348529., dtype=torch.float64), tensor(16623526.)), (tensor(15008161., dtype=torch.float64), tensor(33247010.)), (tensor(85512300., dtype=torch.float64), tensor(33247016.)), (tensor(61181942., dtype=torch.float64), tensor(96970328.)), (tensor(32251., dtype=torch.float64), tensor(16623530.)), (tensor(187112., dtype=torch.float64), tensor(11082391.)), (tensor(49002684., dtype=torch.float64), tensor(34632304.)), (tensor(7200000., dtype=torch.float64), tensor(30476436.)), (tensor(62616646., dtype=torch.float64), tensor(83117424.)), (tensor(5380251., dtype=torch.float64), tensor(36848756.)), (tensor(1.0878e+08, dtype=torch.float64), tensor(24935348.)), (tensor(29456000., dtype=torch.float64), tensor(11082372.)), (tensor(593683., dtype=torch.float64), tensor(30476434.)), (tensor(11301649., dtype=torch.float64), tensor(44329312.)), (tensor(38697217., dtype=torch.float64), tensor(23550040.)), (tensor(4.1435e+08, dtype=torch.float64), tensor(2.2442e+08)), (tensor(1020921., dtype=torch.float64), tensor(16623543.)), (tensor(1.1216e+08, dtype=torch.float64), tensor(26320556.)), (tensor(2395000., dtype=torch.float64), tensor(12800107.)), (tensor(13644292., dtype=torch.float64), tensor(1.1082e+08)), (tensor(2.5921e+08, dtype=torch.float64), tensor(1.5238e+08)), (tensor(5.2908e+08, dtype=torch.float64), tensor(4.4329e+08)), (tensor(93820758., dtype=torch.float64), tensor(2.7706e+08)), (tensor(95437994., dtype=torch.float64), tensor(96970336.)), (tensor(12200000., dtype=torch.float64), tensor(13852934.)), (tensor(1.0815e+08, dtype=torch.float64), tensor(2.0779e+08)), (tensor(2.6659e+08, dtype=torch.float64), tensor(49870504.)), (tensor(1.2655e+08, dtype=torch.float64), tensor(2.2165e+08)), (tensor(4.7720e+08, dtype=torch.float64), tensor(3.4632e+08)), (tensor(8927600., dtype=torch.float64), tensor(15459174.)), (tensor(10429707., dtype=torch.float64), tensor(13852949.)), (tensor(83., dtype=torch.float64), tensor(188.2993)), (tensor(53830415., dtype=torch.float64), tensor(36571760.)), (tensor(7.4786e+08, dtype=torch.float64), tensor(6.9264e+08)), (tensor(18130000., dtype=torch.float64), tensor(24935258.)), (tensor(3.8968e+08, dtype=torch.float64), tensor(4.5715e+08)), (tensor(10000000., dtype=torch.float64), tensor(77.4862)), (tensor(74188937., dtype=torch.float64), tensor(69264528.)), (tensor(388., dtype=torch.float64), tensor(13852930.)), (tensor(30127963., dtype=torch.float64), tensor(41558740.)), (tensor(1964253., dtype=torch.float64), tensor(24935230.)), (tensor(3.3193e+08, dtype=torch.float64), tensor(4.8485e+08)), (tensor(3.6933e+08, dtype=torch.float64), tensor(1.6901e+08)), (tensor(2.8875e+08, dtype=torch.float64), tensor(2.3550e+08)), (tensor(3.1126e+08, dtype=torch.float64), tensor(1.6901e+08)), (tensor(45000., dtype=torch.float64), tensor(9142949.)), (tensor(17834867., dtype=torch.float64), tensor(554170.5625)), (tensor(2.1182e+08, dtype=torch.float64), tensor(1.8840e+08)), (tensor(100000000., dtype=torch.float64), tensor(1.1082e+08)), (tensor(95000., dtype=torch.float64), tensor(277122.0312)), (tensor(13092000., dtype=torch.float64), tensor(9143188.)), (tensor(8109160., dtype=torch.float64), tensor(34678444.)), (tensor(2800000., dtype=torch.float64), tensor(664975.5000)), (tensor(10501938., dtype=torch.float64), tensor(49870496.)), (tensor(5.7101e+08, dtype=torch.float64), tensor(1.1082e+08)), (tensor(2365467., dtype=torch.float64), tensor(11082404.)), (tensor(21766271., dtype=torch.float64), tensor(41558732.)), (tensor(5809330., dtype=torch.float64), tensor(16623543.)), (tensor(7.1477e+08, dtype=torch.float64), tensor(4.7100e+08)), (tensor(3387000., dtype=torch.float64), tensor(8311801.)), (tensor(3.9200e+08, dtype=torch.float64), tensor(2.7706e+08)), (tensor(63013281., dtype=torch.float64), tensor(94199752.)), (tensor(2450846., dtype=torch.float64), tensor(13852981.)), (tensor(1.0304e+08, dtype=torch.float64), tensor(2.7706e+08)), (tensor(1.0013e+08, dtype=torch.float64), tensor(33247012.)), (tensor(15400000., dtype=torch.float64), tensor(60952792.)), (tensor(19682924., dtype=torch.float64), tensor(44329324.)), (tensor(154701., dtype=torch.float64), tensor(26874668.)), (tensor(86758912., dtype=torch.float64), tensor(1.0861e+08)), (tensor(12007070., dtype=torch.float64), tensor(55411672.)), (tensor(16505460., dtype=torch.float64), tensor(30199398.)), (tensor(265452., dtype=torch.float64), tensor(33247040.)), (tensor(3.6887e+08, dtype=torch.float64), tensor(3.7403e+08)), (tensor(4500000., dtype=torch.float64), tensor(6372373.)), (tensor(500000., dtype=torch.float64), tensor(1385321.7500)), (tensor(2.6816e+08, dtype=torch.float64), tensor(49870496.)), (tensor(5900000., dtype=torch.float64), tensor(5264148.5000)), (tensor(1500000., dtype=torch.float64), tensor(1551569.)), (tensor(2.4340e+08, dtype=torch.float64), tensor(2.7706e+08)), (tensor(4214668., dtype=torch.float64), tensor(2216507.)), (tensor(1784763., dtype=torch.float64), tensor(36017572.)), (tensor(4635143., dtype=torch.float64), tensor(7480593.)), (tensor(7.5210e+08, dtype=torch.float64), tensor(3.4632e+08)), (tensor(2.5117e+08, dtype=torch.float64), tensor(1.1082e+08)), (tensor(2.0328e+08, dtype=torch.float64), tensor(1.8286e+08)), (tensor(41000000., dtype=torch.float64), tensor(30476412.)), (tensor(1430655., dtype=torch.float64), tensor(18562940.)), (tensor(1.0438e+08, dtype=torch.float64), tensor(85888016.)), (tensor(20275812., dtype=torch.float64), tensor(49870480.)), (tensor(1750000., dtype=torch.float64), tensor(11082357.)), (tensor(3.0717e+08, dtype=torch.float64), tensor(33247046.)), (tensor(8.5761e+08, dtype=torch.float64), tensor(4.8485e+08)), (tensor(12096300., dtype=torch.float64), tensor(66493956.)), (tensor(10703234., dtype=torch.float64), tensor(18960502.)), (tensor(90247624., dtype=torch.float64), tensor(1.0528e+08)), (tensor(98837872., dtype=torch.float64), tensor(1.4684e+08)), (tensor(2.5527e+08, dtype=torch.float64), tensor(18008878.)), (tensor(51000000., dtype=torch.float64), tensor(47099876.)), (tensor(66787908., dtype=torch.float64), tensor(55411640.)), (tensor(1.3662e+08, dtype=torch.float64), tensor(47099932.)), (tensor(18295., dtype=torch.float64), tensor(36017584.)), (tensor(88761661., dtype=torch.float64), tensor(55412268.)), (tensor(26049082., dtype=torch.float64), tensor(22164694.)), (tensor(26055., dtype=torch.float64), tensor(24935252.)), (tensor(28831145., dtype=torch.float64), tensor(69264528.)), (tensor(1.2251e+08, dtype=torch.float64), tensor(41004632.)), (tensor(1.8700e+08, dtype=torch.float64), tensor(55411728.)), (tensor(1.6798e+08, dtype=torch.float64), tensor(3.3247e+08)), (tensor(34077920., dtype=torch.float64), tensor(55411644.)), (tensor(3758328., dtype=torch.float64), tensor(47099920.)), (tensor(15447154., dtype=torch.float64), tensor(60952824.)), (tensor(35991087., dtype=torch.float64), tensor(22164708.)), (tensor(47351251., dtype=torch.float64), tensor(63723404.)), (tensor(13954476., dtype=torch.float64), tensor(8311778.5000)), (tensor(59209., dtype=torch.float64), tensor(41558744.)), (tensor(809000., dtype=torch.float64), tensor(1662411.5000)), (tensor(3100000., dtype=torch.float64), tensor(6926481.5000)), (tensor(43967255., dtype=torch.float64), tensor(55411644.)), (tensor(3000000., dtype=torch.float64), tensor(2077962.7500)), (tensor(15000000., dtype=torch.float64), tensor(1385347.5000)), (tensor(57284237., dtype=torch.float64), tensor(88658608.)), (tensor(83719388., dtype=torch.float64), tensor(1.3853e+08)), (tensor(31554855., dtype=torch.float64), tensor(41558752.)), (tensor(4235151., dtype=torch.float64), tensor(2770661.)), (tensor(1310673., dtype=torch.float64), tensor(19394112.)), (tensor(1659542., dtype=torch.float64), tensor(30476406.)), (tensor(807947., dtype=torch.float64), tensor(13852934.)), (tensor(3.7355e+08, dtype=torch.float64), tensor(3.6572e+08)), (tensor(2.3567e+08, dtype=torch.float64), tensor(1.8009e+08)), (tensor(1.2373e+08, dtype=torch.float64), tensor(41558768.)), (tensor(9104716., dtype=torch.float64), tensor(41558736.)), (tensor(1.6984e+08, dtype=torch.float64), tensor(1.1082e+08)), (tensor(39171130., dtype=torch.float64), tensor(69264528.)), (tensor(27187375., dtype=torch.float64), tensor(55411628.)), (tensor(68129518., dtype=torch.float64), tensor(83117392.)), (tensor(2295423., dtype=torch.float64), tensor(33939648.)), (tensor(9.6655e+08, dtype=torch.float64), tensor(4.8485e+08)), (tensor(49263404., dtype=torch.float64), tensor(83117456.)), (tensor(7972967., dtype=torch.float64), tensor(49870476.)), (tensor(7018189., dtype=torch.float64), tensor(48485184.)), (tensor(69411370., dtype=torch.float64), tensor(1.3853e+08)), (tensor(1.1000e+08, dtype=torch.float64), tensor(1.5238e+08)), (tensor(21571189., dtype=torch.float64), tensor(24935286.)), (tensor(16000000., dtype=torch.float64), tensor(3601803.7500)), (tensor(32935319., dtype=torch.float64), tensor(30476446.)), (tensor(1.0322e+08, dtype=torch.float64), tensor(49870528.)), (tensor(1400000., dtype=torch.float64), tensor(3047683.)), (tensor(4200000., dtype=torch.float64), tensor(4155909.)), (tensor(30800231., dtype=torch.float64), tensor(1.6623e+08)), (tensor(19054534., dtype=torch.float64), tensor(34909372.)), (tensor(4.4060e+08, dtype=torch.float64), tensor(4.2944e+08)), (tensor(84025816., dtype=torch.float64), tensor(83117472.)), (tensor(11., dtype=torch.float64), tensor(79.9022)), (tensor(86165646., dtype=torch.float64), tensor(1.2468e+08)), (tensor(40100000., dtype=torch.float64), tensor(13852970.)), (tensor(73706., dtype=torch.float64), tensor(1.8009e+08)), (tensor(3494070., dtype=torch.float64), tensor(13575938.)), (tensor(1.4080e+08, dtype=torch.float64), tensor(96970352.)), (tensor(8.8067e+08, dtype=torch.float64), tensor(6.7879e+08)), (tensor(52424533., dtype=torch.float64), tensor(99740904.)), (tensor(42664410., dtype=torch.float64), tensor(277115.9062)), (tensor(596000., dtype=torch.float64), tensor(803514.5625)), (tensor(24267., dtype=torch.float64), tensor(9974141.)), (tensor(26250020., dtype=torch.float64), tensor(1.0251e+08)), (tensor(45300000., dtype=torch.float64), tensor(36017600.)), (tensor(208588., dtype=torch.float64), tensor(55411640.)), (tensor(2.6803e+08, dtype=torch.float64), tensor(3.8788e+08)), (tensor(79799880., dtype=torch.float64), tensor(63723392.)), (tensor(3.2577e+08, dtype=torch.float64), tensor(1.3299e+08)), (tensor(6.7512e+08, dtype=torch.float64), tensor(4.5715e+08)), (tensor(9.5602e+08, dtype=torch.float64), tensor(6.9264e+08)), (tensor(3430018., dtype=torch.float64), tensor(35186440.)), (tensor(82394288., dtype=torch.float64), tensor(83117456.)), (tensor(1.4054e+09, dtype=torch.float64), tensor(7.7576e+08)), (tensor(7.8311e+08, dtype=torch.float64), tensor(1.6069e+08)), (tensor(1.9233e+08, dtype=torch.float64), tensor(1.5238e+08)), (tensor(3250000., dtype=torch.float64), tensor(41558704.)), (tensor(12601706., dtype=torch.float64), tensor(41558760.)), (tensor(14000000., dtype=torch.float64), tensor(7757665.5000)), (tensor(4861022., dtype=torch.float64), tensor(83117424.)), (tensor(2360281., dtype=torch.float64), tensor(19394124.)), (tensor(13218980., dtype=torch.float64), tensor(7757660.5000)), (tensor(771317., dtype=torch.float64), tensor(1239943.8750)), (tensor(35926213., dtype=torch.float64), tensor(72035112.)), (tensor(6500000., dtype=torch.float64), tensor(69264520.)), (tensor(43884652., dtype=torch.float64), tensor(13852970.)), (tensor(1.1418e+08, dtype=torch.float64), tensor(2.6321e+08)), (tensor(532269., dtype=torch.float64), tensor(4987078.)), (tensor(3442853., dtype=torch.float64), tensor(44329320.)), (tensor(48600000., dtype=torch.float64), tensor(1.3853e+08)), (tensor(15298355., dtype=torch.float64), tensor(5982528.5000)), (tensor(5169755., dtype=torch.float64), tensor(11082398.)), (tensor(46000000., dtype=torch.float64), tensor(21333512.)), (tensor(4684165., dtype=torch.float64), tensor(6926474.)), (tensor(1749201., dtype=torch.float64), tensor(77576272.)), (tensor(2691899., dtype=torch.float64), tensor(2770620.7500)), (tensor(1.0767e+08, dtype=torch.float64), tensor(1.1636e+08)), (tensor(13809., dtype=torch.float64), tensor(13852964.)), (tensor(12000000., dtype=torch.float64), tensor(4155917.2500)), (tensor(1.0440e+08, dtype=torch.float64), tensor(1.3576e+08)), (tensor(83061158., dtype=torch.float64), tensor(96970320.)), (tensor(6.5343e+08, dtype=torch.float64), tensor(4.4329e+08)), (tensor(32556119., dtype=torch.float64), tensor(41558768.)), (tensor(78874843., dtype=torch.float64), tensor(30476440.)), (tensor(1.5096e+08, dtype=torch.float64), tensor(4.8485e+08)), (tensor(1675381., dtype=torch.float64), tensor(8311784.5000)), (tensor(1.2349e+08, dtype=torch.float64), tensor(1.1082e+08)), (tensor(40272135., dtype=torch.float64), tensor(32692900.)), (tensor(3.4347e+08, dtype=torch.float64), tensor(5.1256e+08)), (tensor(13865435., dtype=torch.float64), tensor(18008824.)), (tensor(2.4838e+08, dtype=torch.float64), tensor(2.1611e+08)), (tensor(65663276., dtype=torch.float64), tensor(69264544.)), (tensor(2300000., dtype=torch.float64), tensor(19948224.)), (tensor(5.4231e+08, dtype=torch.float64), tensor(1.6291e+08)), (tensor(11480000., dtype=torch.float64), tensor(10251188.)), (tensor(6.8233e+08, dtype=torch.float64), tensor(4.1559e+08)), (tensor(48125., dtype=torch.float64), tensor(13852946.)), (tensor(36869414., dtype=torch.float64), tensor(41558776.)), (tensor(51680201., dtype=torch.float64), tensor(96970312.)), (tensor(34441873., dtype=torch.float64), tensor(83117456.)), (tensor(1.5396e+08, dtype=torch.float64), tensor(1.3881e+08)), (tensor(3.3758e+08, dtype=torch.float64), tensor(3.0476e+08)), (tensor(4.7049e+08, dtype=torch.float64), tensor(3.0476e+08)), (tensor(59744., dtype=torch.float64), tensor(2770659.2500)), (tensor(67800064., dtype=torch.float64), tensor(60952788.)), (tensor(17986781., dtype=torch.float64), tensor(1939477.)), (tensor(52425855., dtype=torch.float64), tensor(11082378.)), (tensor(51029361., dtype=torch.float64), tensor(46545784.)), (tensor(1.9456e+08, dtype=torch.float64), tensor(96970352.)), (tensor(9112193., dtype=torch.float64), tensor(9697062.)), (tensor(32248241., dtype=torch.float64), tensor(33247014.)), (tensor(25312387., dtype=torch.float64), tensor(49870480.)), (tensor(7800000., dtype=torch.float64), tensor(26320556.)), (tensor(49100000., dtype=torch.float64), tensor(91429208.)), (tensor(770706., dtype=torch.float64), tensor(23549992.)), (tensor(846704., dtype=torch.float64), tensor(13852926.)), (tensor(721651., dtype=torch.float64), tensor(61988.7539)), (tensor(2000000., dtype=torch.float64), tensor(37015000.)), (tensor(6500000., dtype=torch.float64), tensor(14961176.)), (tensor(53181600., dtype=torch.float64), tensor(77576288.)), (tensor(1.1254e+08, dtype=torch.float64), tensor(96970352.)), (tensor(1938., dtype=torch.float64), tensor(4155926.7500)), (tensor(5155325., dtype=torch.float64), tensor(9697097.)), (tensor(62882090., dtype=torch.float64), tensor(2770649.)), (tensor(14674076., dtype=torch.float64), tensor(5541270.)), (tensor(61279452., dtype=torch.float64), tensor(1.9394e+08)), (tensor(1.5183e+08, dtype=torch.float64), tensor(41558744.)), (tensor(64110728., dtype=torch.float64), tensor(9142963.)), (tensor(1.2655e+08, dtype=torch.float64), tensor(1.1082e+08)), (tensor(15520023., dtype=torch.float64), tensor(62338096.)), (tensor(12000000., dtype=torch.float64), tensor(2077989.2500)), (tensor(1.8813e+08, dtype=torch.float64), tensor(2.4935e+08)), (tensor(1.0760e+08, dtype=torch.float64), tensor(1.0528e+08)), (tensor(85978266., dtype=torch.float64), tensor(27705844.)), (tensor(121179., dtype=torch.float64), tensor(881115.0625)), (tensor(2.4269e+08, dtype=torch.float64), tensor(3.3247e+08)), (tensor(3324330., dtype=torch.float64), tensor(1.3853e+08)), (tensor(1.2607e+08, dtype=torch.float64), tensor(1.1082e+08)), (tensor(55198285., dtype=torch.float64), tensor(13852993.)), (tensor(18000000., dtype=torch.float64), tensor(17731748.)), (tensor(6.5211e+08, dtype=torch.float64), tensor(4.5715e+08)), (tensor(5.3295e+08, dtype=torch.float64), tensor(3.7403e+08)), (tensor(67347013., dtype=torch.float64), tensor(1.1082e+08)), (tensor(3721345., dtype=torch.float64), tensor(18008836.)), (tensor(395000., dtype=torch.float64), tensor(2770642.2500)), (tensor(6485961., dtype=torch.float64), tensor(55411656.)), (tensor(2.1702e+08, dtype=torch.float64), tensor(1.8840e+08)), (tensor(1.9678e+08, dtype=torch.float64), tensor(1.1082e+08)), (tensor(12342632., dtype=torch.float64), tensor(1.2191e+08)), (tensor(44030246., dtype=torch.float64), tensor(13852963.)), (tensor(86362372., dtype=torch.float64), tensor(13852958.)), (tensor(151530., dtype=torch.float64), tensor(55411652.)), (tensor(50549107., dtype=torch.float64), tensor(1.6623e+08)), (tensor(91000000., dtype=torch.float64), tensor(54026336.)), (tensor(3566225., dtype=torch.float64), tensor(4155927.7500)), (tensor(61548707., dtype=torch.float64), tensor(41558772.)), (tensor(11276., dtype=torch.float64), tensor(1385332.3750)), (tensor(21000000., dtype=torch.float64), tensor(8311823.)), (tensor(466088., dtype=torch.float64), tensor(2916783.7500)), (tensor(1.2742e+09, dtype=torch.float64), tensor(4.1559e+08)), (tensor(7587485., dtype=torch.float64), tensor(27705856.)), (tensor(70181428., dtype=torch.float64), tensor(66493952.)), (tensor(40400., dtype=torch.float64), tensor(13852946.)), (tensor(26501323., dtype=torch.float64), tensor(2770635.2500)), (tensor(1.4694e+08, dtype=torch.float64), tensor(2.4935e+08)), (tensor(10165694., dtype=torch.float64), tensor(11913550.)), (tensor(600896., dtype=torch.float64), tensor(11082381.)), (tensor(11417362., dtype=torch.float64), tensor(38788160.)), (tensor(18000000., dtype=torch.float64), tensor(19671160.)), (tensor(30000000., dtype=torch.float64), tensor(54580464.)), (tensor(17654912., dtype=torch.float64), tensor(33247028.)), (tensor(5.1931e+08, dtype=torch.float64), tensor(3.6018e+08)), (tensor(615816., dtype=torch.float64), tensor(9697079.)), (tensor(2.1553e+08, dtype=torch.float64), tensor(1.9394e+08)), (tensor(7.5854e+08, dtype=torch.float64), tensor(4.9870e+08)), (tensor(1.5117e+08, dtype=torch.float64), tensor(1.3853e+08)), (tensor(129115., dtype=torch.float64), tensor(69264528.)), (tensor(8555008., dtype=torch.float64), tensor(77576280.)), (tensor(19660000., dtype=torch.float64), tensor(30254768.)), (tensor(8.0934e+08, dtype=torch.float64), tensor(4.9870e+08)), (tensor(98441954., dtype=torch.float64), tensor(36017572.)), (tensor(15071., dtype=torch.float64), tensor(16623531.)), (tensor(9216., dtype=torch.float64), tensor(38788132.)), (tensor(270000., dtype=torch.float64), tensor(304809.5938)), (tensor(1064454., dtype=torch.float64), tensor(27705832.)), (tensor(5496951., dtype=torch.float64), tensor(75415232.)), (tensor(14618727., dtype=torch.float64), tensor(19394116.)), (tensor(35000000., dtype=torch.float64), tensor(16623526.)), (tensor(7888102., dtype=torch.float64), tensor(1108270.6250)), (tensor(31244858., dtype=torch.float64), tensor(55411620.)), (tensor(2755584., dtype=torch.float64), tensor(40.7887)), (tensor(41296320., dtype=torch.float64), tensor(54857536.)), (tensor(3.1159e+08, dtype=torch.float64), tensor(2.0502e+08)), (tensor(7.4560e+08, dtype=torch.float64), tensor(4.8485e+08)), (tensor(12314651., dtype=torch.float64), tensor(38788156.)), (tensor(2367161., dtype=torch.float64), tensor(13852957.)), (tensor(1.1567e+09, dtype=torch.float64), tensor(2.0502e+08)), (tensor(6000000., dtype=torch.float64), tensor(4155912.)), (tensor(318982., dtype=torch.float64), tensor(44329336.)), (tensor(22309223., dtype=torch.float64), tensor(49870480.)), (tensor(282358., dtype=torch.float64), tensor(6095335.5000)), (tensor(1.7365e+08, dtype=torch.float64), tensor(1.3853e+08)), (tensor(1500000., dtype=torch.float64), tensor(49870452.)), (tensor(2627209., dtype=torch.float64), tensor(12467680.)), (tensor(3000000., dtype=torch.float64), tensor(15238265.)), (tensor(39407616., dtype=torch.float64), tensor(1.8009e+08)), (tensor(9318., dtype=torch.float64), tensor(2770634.2500)), (tensor(61768190., dtype=torch.float64), tensor(13852975.)), (tensor(5000000., dtype=torch.float64), tensor(15238232.)), (tensor(22896728., dtype=torch.float64), tensor(27705848.)), (tensor(3500000., dtype=torch.float64), tensor(3878863.7500)), (tensor(2.1290e+08, dtype=torch.float64), tensor(1.3853e+08)), (tensor(5659286., dtype=torch.float64), tensor(22164708.)), (tensor(7500000., dtype=torch.float64), tensor(23549976.)), (tensor(1826705., dtype=torch.float64), tensor(7757676.5000)), (tensor(6147., dtype=torch.float64), tensor(19394108.)), (tensor(43058898., dtype=torch.float64), tensor(60952800.)), (tensor(1.0826e+08, dtype=torch.float64), tensor(1.6623e+08)), (tensor(51164106., dtype=torch.float64), tensor(72035128.)), (tensor(1.0053e+08, dtype=torch.float64), tensor(55411632.)), (tensor(12400000., dtype=torch.float64), tensor(19394104.)), (tensor(23000000., dtype=torch.float64), tensor(16346451.)), (tensor(7087452., dtype=torch.float64), tensor(1662401.2500)), (tensor(7133082., dtype=torch.float64), tensor(5051221.)), (tensor(11110975., dtype=torch.float64), tensor(55411664.)), (tensor(1.3440e+08, dtype=torch.float64), tensor(77576272.)), (tensor(2159041., dtype=torch.float64), tensor(13575905.)), (tensor(1.2213e+08, dtype=torch.float64), tensor(1.2745e+08)), (tensor(4.3368e+08, dtype=torch.float64), tensor(4.4329e+08)), (tensor(2.4364e+08, dtype=torch.float64), tensor(2.4381e+08)), (tensor(3.7054e+08, dtype=torch.float64), tensor(4.9316e+08)), (tensor(66980456., dtype=torch.float64), tensor(69264544.)), (tensor(34592118., dtype=torch.float64), tensor(72035096.)), (tensor(98000000., dtype=torch.float64), tensor(38788168.)), (tensor(6108720., dtype=torch.float64), tensor(24935292.)), (tensor(27391084., dtype=torch.float64), tensor(30476428.)), (tensor(2439705., dtype=torch.float64), tensor(22164660.)), (tensor(1411927., dtype=torch.float64), tensor(22164694.)), (tensor(1.1783e+08, dtype=torch.float64), tensor(3.6018e+08)), (tensor(1.6060e+08, dtype=torch.float64), tensor(1.3853e+08)), (tensor(2300000., dtype=torch.float64), tensor(1232949.2500)), (tensor(1.1533e+09, dtype=torch.float64), tensor(6.9265e+08)), (tensor(1.5062e+09, dtype=torch.float64), tensor(5.2641e+08)), (tensor(4000000., dtype=torch.float64), tensor(2077969.6250)), (tensor(23000000., dtype=torch.float64), tensor(29091148.)), (tensor(1.4930e+08, dtype=torch.float64), tensor(1.1082e+08)), (tensor(3.4832e+08, dtype=torch.float64), tensor(94199992.)), (tensor(63464861., dtype=torch.float64), tensor(22164708.)), (tensor(8.6342e+08, dtype=torch.float64), tensor(5.5412e+08)), (tensor(46396427., dtype=torch.float64), tensor(30476416.)), (tensor(115860., dtype=torch.float64), tensor(9731573.)), (tensor(99067206., dtype=torch.float64), tensor(15238251.)), (tensor(6.3016e+08, dtype=torch.float64), tensor(2.9922e+08)), (tensor(232., dtype=torch.float64), tensor(41.7641)), (tensor(4250000., dtype=torch.float64), tensor(16457290.)), (tensor(5.4393e+08, dtype=torch.float64), tensor(4.9316e+08)), (tensor(7.7333e+08, dtype=torch.float64), tensor(4.7100e+08)), (tensor(61619773., dtype=torch.float64), tensor(30476450.)), (tensor(43528634., dtype=torch.float64), tensor(23549988.)), (tensor(22159216., dtype=torch.float64), tensor(15238235.)), (tensor(1.1181e+08, dtype=torch.float64), tensor(1.1082e+08)), (tensor(2.0617e+08, dtype=torch.float64), tensor(2.4935e+08)), (tensor(53213633., dtype=torch.float64), tensor(69264512.)), (tensor(38307627., dtype=torch.float64), tensor(69264544.)), (tensor(97437106., dtype=torch.float64), tensor(1.3853e+08)), (tensor(91709827., dtype=torch.float64), tensor(83117456.)), (tensor(1.0914e+09, dtype=torch.float64), tensor(5.8182e+08)), (tensor(11672363., dtype=torch.float64), tensor(25690064.)), (tensor(3.6264e+08, dtype=torch.float64), tensor(3.4632e+08)), (tensor(18662027., dtype=torch.float64), tensor(1.9394e+08)), (tensor(80383290., dtype=torch.float64), tensor(1.3853e+08)), (tensor(4.6916e+08, dtype=torch.float64), tensor(1.6623e+08)), (tensor(62000000., dtype=torch.float64), tensor(49870468.)), (tensor(2415472., dtype=torch.float64), tensor(70649840.)), (tensor(5850000., dtype=torch.float64), tensor(7605285.5000)), (tensor(3.7886e+08, dtype=torch.float64), tensor(4.1559e+08)), (tensor(1.2839e+08, dtype=torch.float64), tensor(4.1559e+08)), (tensor(44907260., dtype=torch.float64), tensor(1.1082e+08)), (tensor(12058187., dtype=torch.float64), tensor(13852953.)), (tensor(2.0915e+08, dtype=torch.float64), tensor(5.2641e+08)), (tensor(88273., dtype=torch.float64), tensor(6649440.)), (tensor(10835752., dtype=torch.float64), tensor(27705886.)), (tensor(15656193., dtype=torch.float64), tensor(11082396.)), (tensor(1.0359e+08, dtype=torch.float64), tensor(13852973.)), (tensor(7.1639e+08, dtype=torch.float64), tensor(2.9091e+08)), (tensor(2011837., dtype=torch.float64), tensor(9142951.)), (tensor(52501541., dtype=torch.float64), tensor(41558760.)), (tensor(3623330., dtype=torch.float64), tensor(285430.0938)), (tensor(42070000., dtype=torch.float64), tensor(29091144.)), (tensor(1.2000e+08, dtype=torch.float64), tensor(36017612.)), (tensor(21026290., dtype=torch.float64), tensor(33247000.)), (tensor(3250000., dtype=torch.float64), tensor(9004410.)), (tensor(15000000., dtype=torch.float64), tensor(19117044.)), (tensor(29193330., dtype=torch.float64), tensor(76366624.)), (tensor(8.7546e+08, dtype=torch.float64), tensor(2.0779e+08)), (tensor(2.3356e+08, dtype=torch.float64), tensor(38788260.)), (tensor(14708696., dtype=torch.float64), tensor(87273304.)), (tensor(2.8751e+08, dtype=torch.float64), tensor(80346880.)), (tensor(11000000., dtype=torch.float64), tensor(8311783.5000)), (tensor(22456509., dtype=torch.float64), tensor(23549974.)), (tensor(3.4942e+08, dtype=torch.float64), tensor(3.5186e+08)), (tensor(16656125., dtype=torch.float64), tensor(38788140.)), (tensor(53086., dtype=torch.float64), tensor(22164674.)), (tensor(16549477., dtype=torch.float64), tensor(55411628.)), (tensor(48965210., dtype=torch.float64), tensor(24935272.)), (tensor(8.7326e+08, dtype=torch.float64), tensor(6.9264e+08)), (tensor(71009334., dtype=torch.float64), tensor(69264544.)), (tensor(250000., dtype=torch.float64), tensor(3601823.2500)), (tensor(7339398., dtype=torch.float64), tensor(9697088.)), (tensor(10076790., dtype=torch.float64), tensor(38788192.)), (tensor(24000000., dtype=torch.float64), tensor(60952816.)), (tensor(74918., dtype=torch.float64), tensor(8034738.)), (tensor(1477002., dtype=torch.float64), tensor(5541252.)), (tensor(45967935., dtype=torch.float64), tensor(30476440.)), (tensor(94061311., dtype=torch.float64), tensor(2.7706e+08)), (tensor(1.0430e+08, dtype=torch.float64), tensor(27705860.)), (tensor(122., dtype=torch.float64), tensor(103.9919)), (tensor(47000000., dtype=torch.float64), tensor(15238217.)), (tensor(62076141., dtype=torch.float64), tensor(30476436.)), (tensor(12935800., dtype=torch.float64), tensor(30476420.)), (tensor(653651., dtype=torch.float64), tensor(27705846.)), (tensor(24186232., dtype=torch.float64), tensor(1.3659e+08)), (tensor(1.6344e+08, dtype=torch.float64), tensor(1.8009e+08)), (tensor(1.2292e+08, dtype=torch.float64), tensor(1.3853e+08)), (tensor(6833445., dtype=torch.float64), tensor(13852959.)), (tensor(1.8844e+08, dtype=torch.float64), tensor(1.3853e+08)), (tensor(36894225., dtype=torch.float64), tensor(83117424.)), (tensor(88880821., dtype=torch.float64), tensor(60952824.)), (tensor(7.9419e+08, dtype=torch.float64), tensor(6.3723e+08)), (tensor(1.2554e+08, dtype=torch.float64), tensor(3.0476e+08)), (tensor(1.2155e+08, dtype=torch.float64), tensor(1.8009e+08)), (tensor(1.0065e+08, dtype=torch.float64), tensor(77576272.)), (tensor(95000000., dtype=torch.float64), tensor(1.5238e+08)), (tensor(52597999., dtype=torch.float64), tensor(77576304.)), (tensor(9.5840e+08, dtype=torch.float64), tensor(6.9264e+08)), (tensor(9494789., dtype=torch.float64), tensor(91429168.)), (tensor(44349000., dtype=torch.float64), tensor(11082383.)), (tensor(1189612., dtype=torch.float64), tensor(13852933.)), (tensor(45431., dtype=torch.float64), tensor(5541216.5000)), (tensor(927277., dtype=torch.float64), tensor(931023.1875)), (tensor(5.4351e+08, dtype=torch.float64), tensor(2.6321e+08)), (tensor(2.9524e+08, dtype=torch.float64), tensor(3.0476e+08)), (tensor(8914881., dtype=torch.float64), tensor(19394080.)), (tensor(1.7925e+08, dtype=torch.float64), tensor(3.0476e+08)), (tensor(5483299., dtype=torch.float64), tensor(15238244.)), (tensor(15172408., dtype=torch.float64), tensor(19394092.)), (tensor(14431253., dtype=torch.float64), tensor(96970320.)), (tensor(7.0572e+08, dtype=torch.float64), tensor(5.5412e+08)), (tensor(81967450., dtype=torch.float64), tensor(96970328.)), (tensor(3639345., dtype=torch.float64), tensor(30476428.)), (tensor(6860853., dtype=torch.float64), tensor(19394116.)), (tensor(1.5576e+08, dtype=torch.float64), tensor(1.2191e+08)), (tensor(30418560., dtype=torch.float64), tensor(1.6623e+08)), (tensor(1.5400e+08, dtype=torch.float64), tensor(69264536.)), (tensor(1359910., dtype=torch.float64), tensor(20779398.)), (tensor(7527232., dtype=torch.float64), tensor(13852971.)), (tensor(8.4742e+08, dtype=torch.float64), tensor(3.6018e+08)), (tensor(68896829., dtype=torch.float64), tensor(77576272.)), (tensor(22424195., dtype=torch.float64), tensor(27705824.)), (tensor(3485127., dtype=torch.float64), tensor(16623539.)), (tensor(350006., dtype=torch.float64), tensor(11082362.)), (tensor(1.5135e+09, dtype=torch.float64), tensor(4.1559e+08))]\n",
            "EPOCH: 14\n",
            "TRAIN LOSS: 5.19921317110077e+19\n",
            "VAL ACC: 0.12825278810408922\n",
            "TEST ACC: 0.10204081632653061\n"
          ]
        }
      ],
      "source": [
        "true, pred = val_loop(model, val_iterator)\n",
        "true2, pred2 = val_loop(model, test_iterator)\n",
        "print(model.parameters)\n",
        "print(list(zip(true,pred)))\n",
        "print(f\"EPOCH: {epoch}\")\n",
        "print(f\"TRAIN LOSS: {train_loss}\")\n",
        "print(f\"VAL ACC: {accuracy(true, pred)}\")\n",
        "print(f\"TEST ACC: {accuracy(true2, pred2)}\")"
      ]
    }
  ],
  "metadata": {
    "accelerator": "GPU",
    "colab": {
      "gpuType": "T4",
      "machine_shape": "hm",
      "provenance": []
    },
    "kernelspec": {
      "display_name": "base",
      "language": "python",
      "name": "python3"
    },
    "language_info": {
      "codemirror_mode": {
        "name": "ipython",
        "version": 3
      },
      "file_extension": ".py",
      "mimetype": "text/x-python",
      "name": "python",
      "nbconvert_exporter": "python",
      "pygments_lexer": "ipython3",
      "version": "3.12.7"
    }
  },
  "nbformat": 4,
  "nbformat_minor": 0
}
